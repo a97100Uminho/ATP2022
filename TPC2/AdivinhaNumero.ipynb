{
 "cells": [
  {
   "cell_type": "markdown",
   "metadata": {},
   "source": [
    "### TPC2: Adivinha o número\n",
    "- Crie um programa em Python para jogar o jogo \"Adivinha o número\":\n",
    "    - O jogo pode ter 2 modalidades: computador pensa num número (entre 0 e 100), utilizador tenta adivinhar; ou, o utilizador pensa num número (entre 0 e 100) e o computador tenta adivinhar;\n",
    "    - Quem tenta adivinhar responde com uma das afirmações: \"Acertou\", \"O número que pensei é Maior\" ou \"O número que pensei é Menor\";\n",
    "    - Uma vez descoberto o número o programa deverá terminar imprimindo o número de tentativas que quem adivinhou usou para chegar ao resultado.\n",
    "\n"
   ]
  },
  {
   "cell_type": "code",
   "execution_count": 3,
   "metadata": {},
   "outputs": [
    {
     "name": "stdout",
     "output_type": "stream",
     "text": [
      "Erro. Introduza valores válidos, ou [1] se pretende adivinhar no número ou [2] se pretende que seja o computador a fazê-lo.\n"
     ]
    }
   ],
   "source": [
    "jogo=int(input('''Selecione o modo de jogo que pretende jogar. Se pretende que seja o computador a pensar num número, selecione [1]. \n",
    "Se pretender, como utilizador, pensar num número, selecione [2] '''))\n",
    "\n",
    "import random \n",
    "\n",
    "if jogo==1:\n",
    "    \n",
    "    def computador():\n",
    "        resposta = random.randrange(0,101)\n",
    "        \n",
    "        tentativas = 0\n",
    "        palpites=0\n",
    "        while palpites is not resposta:\n",
    "            tentativas +=1\n",
    "            palpites = int(input(\"Qual é o seu palpite: \"))\n",
    "            if palpites < resposta:\n",
    "                print(\"Palpite errado! É um valor maior que \", palpites)\n",
    "            elif palpites > resposta:\n",
    "                print(\"Palpite errado! É um valor menor que \", palpites)\n",
    "            else:\n",
    "                print(\"Parabéns!! O número definido pelo computador foi: \",resposta, \\\n",
    "                  \". Acertou em \",tentativas,\" tentativas!\")\n",
    "    \n",
    "   \n",
    "    computador()\n",
    "\n",
    "\n",
    "if jogo==2: \n",
    "\n",
    "    n=0\n",
    "    N=100\n",
    "    c=0\n",
    "    print('''Pense num número de 0 a 100.\n",
    "    Caso o palpite do computador não seja o correto utilize «maior» ou «menor». Caso este esteja correto, utilize «igual».''')\n",
    "\n",
    "    def procura(n,N,c):\n",
    "        m=(n+N)//2\n",
    "        palpite=input(\"O número que pensou é \"+str(m)+ \"? \")\n",
    "        if palpite==\"igual\":\n",
    "            c=c+1\n",
    "            print(\"O computador adivinhou em\", c, \"tentativas.\")\n",
    "            print(\"Fim do jogo.\")\n",
    "        elif palpite==\"maior\":\n",
    "            n=m\n",
    "            c=c+1\n",
    "            procura(n,N,c)\n",
    "        elif palpite==\"menor\":\n",
    "            N=m\n",
    "            c=c+1\n",
    "            procura(n,N,c)\n",
    "        else:\n",
    "            print(\"Comando não aceite.\")\n",
    "    \n",
    "    procura(n,N,c)\n",
    "\n",
    "else: \n",
    "    print('Erro. Introduza valores válidos, ou [1] se pretende adivinhar no número ou [2], se pretende que seja o computador a fazê-lo.')"
   ]
  }
 ],
 "metadata": {
  "kernelspec": {
   "display_name": "Python 3.10.7 64-bit",
   "language": "python",
   "name": "python3"
  },
  "language_info": {
   "codemirror_mode": {
    "name": "ipython",
    "version": 3
   },
   "file_extension": ".py",
   "mimetype": "text/x-python",
   "name": "python",
   "nbconvert_exporter": "python",
   "pygments_lexer": "ipython3",
   "version": "3.10.7"
  },
  "orig_nbformat": 4,
  "vscode": {
   "interpreter": {
    "hash": "81def38dabae2ddffb703dd72bfeb3541b64275e13f1bdab23977ab567fa5a52"
   }
  }
 },
 "nbformat": 4,
 "nbformat_minor": 2
}
