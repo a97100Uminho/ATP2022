{
 "cells": [
  {
   "cell_type": "markdown",
   "metadata": {},
   "source": [
    "### TPC8: Teste de aferição\n",
    "\n",
    "Resolva os problemas apresentados a seguir."
   ]
  },
  {
   "cell_type": "markdown",
   "metadata": {},
   "source": [
    "### 1)a) Recebe duas strings, _s1_ e _s2_, e retorna o comprimento da substring inicial de _s1_ que não contem nenhum caráter de _s2_:"
   ]
  },
  {
   "cell_type": "code",
   "execution_count": null,
   "metadata": {},
   "outputs": [],
   "source": [
    "def inicDiferente(s1, s2):\n",
    "    res = 0\n",
    "    # ...\n",
    "    return res\n",
    "\n",
    "inicDiferente(\"Está um bom dia...\", \"Hoje é um dia alegre.\")\n",
    "# resultado esperado: 4"
   ]
  },
  {
   "cell_type": "code",
   "execution_count": 24,
   "metadata": {},
   "outputs": [
    {
     "data": {
      "text/plain": [
       "4"
      ]
     },
     "execution_count": 24,
     "metadata": {},
     "output_type": "execute_result"
    }
   ],
   "source": [
    "def inicDiferente(s1, s2):\n",
    "    res= len(s1.split(' '))\n",
    "\n",
    "    return res\n",
    "\n",
    "inicDiferente(\"Está um bom dia...\", \"Hoje é um dia alegre.\")"
   ]
  },
  {
   "cell_type": "markdown",
   "metadata": {},
   "source": [
    "### 1)b) Recebe um parâmetro _n_ e lê _n_ números inteiros; no fim retorna quantos dos números lidos são superiores à média dos números lidos:"
   ]
  },
  {
   "cell_type": "code",
   "execution_count": null,
   "metadata": {},
   "outputs": [],
   "source": [
    "def acimaMedia(n):\n",
    "    res = 0\n",
    "    # ...\n",
    "    return res\n",
    "\n",
    "acimaMedia(5)"
   ]
  },
  {
   "cell_type": "code",
   "execution_count": 11,
   "metadata": {},
   "outputs": [
    {
     "data": {
      "text/plain": [
       "2"
      ]
     },
     "execution_count": 11,
     "metadata": {},
     "output_type": "execute_result"
    }
   ],
   "source": [
    "def acimaMedia(n):\n",
    "    lista=[]\n",
    "    soma = 0\n",
    "    superior = 0\n",
    "\n",
    "    for i in range(0, n):\n",
    "        num = int(input('Insira o valor: '))\n",
    "        lista.append(num)\n",
    "        soma = soma + num \n",
    "    \n",
    "    media = soma/n\n",
    "\n",
    "    for elem in lista:\n",
    "        if elem > media: \n",
    "            superior = superior + 1\n",
    "\n",
    "    return superior\n",
    "\n",
    "acimaMedia(5)"
   ]
  },
  {
   "cell_type": "markdown",
   "metadata": {},
   "source": [
    "### 1)c) Faz o merge de duas listas ordenadas, retornando uma lista ordenada com os elementos das duas listas (__não podes usar nenhuma função de ordenação do Python__):"
   ]
  },
  {
   "cell_type": "code",
   "execution_count": 12,
   "metadata": {},
   "outputs": [
    {
     "data": {
      "text/plain": [
       "[1, 2, 3, 4, 6, 7, 9, 12]"
      ]
     },
     "execution_count": 12,
     "metadata": {},
     "output_type": "execute_result"
    }
   ],
   "source": [
    "def merge(l1, l2):\n",
    "    lista = l1 + l2\n",
    "\n",
    "    trocas = True\n",
    "    while trocas:\n",
    "        trocas = False\n",
    "        i = 1\n",
    "        while i < len(lista):\n",
    "            if lista[i] < lista[i-1]:\n",
    "                lista[i], lista[i-1] = lista[i-1], lista[i]\n",
    "                trocas = True\n",
    "            i = i + 1\n",
    "    return lista\n",
    "    \n",
    "merge([1,2,6,9], [3,4,7,12])\n",
    "# Resultado esperado: [1,2,3,4,6,7,9,12]"
   ]
  },
  {
   "cell_type": "markdown",
   "metadata": {},
   "source": [
    "### 1)d) Recebe o nome de dois ficheiros de texto, _f1_ e _f2_, e indica se são iguais (__True__) no seu conteúdo ou se são diferentes (__False__):"
   ]
  },
  {
   "cell_type": "code",
   "execution_count": 14,
   "metadata": {},
   "outputs": [
    {
     "ename": "FileNotFoundError",
     "evalue": "[Errno 2] No such file or directory: 'f1.txt'",
     "output_type": "error",
     "traceback": [
      "\u001b[1;31m---------------------------------------------------------------------------\u001b[0m",
      "\u001b[1;31mFileNotFoundError\u001b[0m                         Traceback (most recent call last)",
      "Cell \u001b[1;32mIn [14], line 23\u001b[0m\n\u001b[0;32m     20\u001b[0m     \u001b[39melse\u001b[39;00m: \n\u001b[0;32m     21\u001b[0m         \u001b[39mreturn\u001b[39;00m \u001b[39mFalse\u001b[39;00m\n\u001b[1;32m---> 23\u001b[0m \u001b[39mprint\u001b[39m(figuais(\u001b[39m\"\u001b[39m\u001b[39mtexto1.txt\u001b[39m\u001b[39m\"\u001b[39m, \u001b[39m\"\u001b[39m\u001b[39mtexto1.txt\u001b[39m\u001b[39m\"\u001b[39m))\n\u001b[0;32m     24\u001b[0m \u001b[39mprint\u001b[39m(figuais(\u001b[39m\"\u001b[39m\u001b[39mtexto1.txt\u001b[39m\u001b[39m\"\u001b[39m, \u001b[39m\"\u001b[39m\u001b[39mtexto2.txt\u001b[39m\u001b[39m\"\u001b[39m))\n",
      "Cell \u001b[1;32mIn [14], line 5\u001b[0m, in \u001b[0;36mfiguais\u001b[1;34m(f1, f2)\u001b[0m\n\u001b[0;32m      2\u001b[0m lista1 \u001b[39m=\u001b[39m []\n\u001b[0;32m      3\u001b[0m lista2 \u001b[39m=\u001b[39m []\n\u001b[1;32m----> 5\u001b[0m ficheiro1 \u001b[39m=\u001b[39m \u001b[39mopen\u001b[39;49m(\u001b[39m'\u001b[39;49m\u001b[39mf1.txt\u001b[39;49m\u001b[39m'\u001b[39;49m, \u001b[39m'\u001b[39;49m\u001b[39mr\u001b[39;49m\u001b[39m'\u001b[39;49m)\n\u001b[0;32m      6\u001b[0m ficheiro2 \u001b[39m=\u001b[39m \u001b[39mopen\u001b[39m(\u001b[39m'\u001b[39m\u001b[39mf2.txt\u001b[39m\u001b[39m'\u001b[39m, \u001b[39m'\u001b[39m\u001b[39mr\u001b[39m\u001b[39m'\u001b[39m)\n\u001b[0;32m      8\u001b[0m \u001b[39mfor\u001b[39;00m linha \u001b[39min\u001b[39;00m ficheiro1\u001b[39m.\u001b[39msplit(\u001b[39m'\u001b[39m\u001b[39m\\n\u001b[39;00m\u001b[39m'\u001b[39m):\n",
      "\u001b[1;31mFileNotFoundError\u001b[0m: [Errno 2] No such file or directory: 'f1.txt'"
     ]
    }
   ],
   "source": [
    "def figuais(f1, f2):\n",
    "    lista1 = []\n",
    "    lista2 = []\n",
    "\n",
    "    ficheiro1 = open('f1.txt', 'r')\n",
    "    ficheiro2 = open('f2.txt', 'r')\n",
    "\n",
    "    for linha in ficheiro1.split('\\n'):\n",
    "        lista1.append(linha)\n",
    "    \n",
    "    for linha in ficheiro2.split('\\n'):\n",
    "        lista2.append(linha)\n",
    "\n",
    "    ficheiro1.close()\n",
    "    ficheiro2.close()\n",
    "\n",
    "    if lista1 == lista2:\n",
    "        return True\n",
    "    else: \n",
    "        return False\n",
    "\n",
    "print(figuais(\"texto1.txt\", \"texto1.txt\"))\n",
    "print(figuais(\"texto1.txt\", \"texto2.txt\"))"
   ]
  },
  {
   "cell_type": "markdown",
   "metadata": {},
   "source": [
    "## Questão 2: Gestão de uma Cinemateca\n",
    "\n",
    "Analise as seguintes estruturas de dados que materializam o modelo de uma cinemateca:"
   ]
  },
  {
   "cell_type": "code",
   "execution_count": 16,
   "metadata": {},
   "outputs": [],
   "source": [
    "# Cinemateca = [Filme]\n",
    "# Pub = (Título, Ano, Elenco, Géneros)\n",
    "# Título = String\n",
    "# Ano = Int\n",
    "# Elenco = [Ator]\n",
    "# Ator = String\n",
    "# Géneros = [Género]\n",
    "# Género = String\n",
    "Filme1 = (\"Meet the Parents\", 2000, [\"Ben Stiller\",\"Robert De Niro\",\n",
    "      \"Blythe Danner\",\"Teri Polo\",\"Owen Wilson\"], [\"Comedy\", \"Drama\"])\n",
    "Filme2 = (\"Men of Honor\", 2000, [\"Robert De Niro\",\"Cuba Gooding, Jr.\",\n",
    "      \"Charlize Theron\"], [\"Biography\", \"Drama\", \"Thriller\"])\n",
    "Filme3 = (\"Analyze That\", 2002, [\"Robert De Niro\",\"Billy Crystal\",\n",
    "      \"Lisa Kudrow\"], [\"Comedy\"])\n",
    "CineUM = [Filme1, Filme2, Filme3]"
   ]
  },
  {
   "cell_type": "markdown",
   "metadata": {},
   "source": [
    "e especifique funções que calculem o que se descreve a seguir:"
   ]
  },
  {
   "cell_type": "markdown",
   "metadata": {},
   "source": [
    "### 2)a)  Devolve uma lista dos atores participantes nos filmes armazenados, ordenada alfabeticamente e sem repetições:"
   ]
  },
  {
   "cell_type": "code",
   "execution_count": 17,
   "metadata": {},
   "outputs": [
    {
     "name": "stdout",
     "output_type": "stream",
     "text": [
      "['Ben Stiller', 'Billy Crystal', 'Blythe Danner', 'Charlize Theron', 'Cuba Gooding, Jr.', 'Lisa Kudrow', 'Owen Wilson', 'Robert De Niro', 'Robert De Niro', 'Robert De Niro', 'Teri Polo']\n"
     ]
    }
   ],
   "source": [
    "def atores(cinemateca):\n",
    "    lista1 = Filme1[2]\n",
    "    lista2 = Filme2[2]\n",
    "    lista3 = Filme3[2]\n",
    "\n",
    "    lista = lista1 + lista2 + lista3\n",
    "\n",
    "    for i in range(0, len(lista)):\n",
    "        for j in range(0, len(lista)):\n",
    "            if lista[j] > lista[i]:\n",
    "                a = lista[i]\n",
    "                lista[i] = lista[j]\n",
    "                lista[j] = a\n",
    "\n",
    "    return lista\n",
    "\n",
    "    \n",
    "print(atores(CineUM))\n",
    "# Resultado esperado: ['Ben Stiller', 'Billy Crystal', 'Blythe Danner', 'Charlize Theron', 'Cuba Gooding, Jr.', 'Lisa Kudrow', 'Owen Wilson', 'Robert De Niro', 'Teri Polo']"
   ]
  },
  {
   "cell_type": "markdown",
   "metadata": {},
   "source": [
    "### 2)b)  Devolve uma lista de todos os títulos dos filmes, em ordem alfabética, e de um determinado género passado como argumento:"
   ]
  },
  {
   "cell_type": "code",
   "execution_count": 19,
   "metadata": {},
   "outputs": [
    {
     "name": "stdout",
     "output_type": "stream",
     "text": [
      "['Analyze That', 'Meet the Parents']\n"
     ]
    }
   ],
   "source": [
    "def listarPorGenero(cinemateca, genero):\n",
    "    lista = []\n",
    "\n",
    "    if genero in Filme1[3]:\n",
    "        lista.append(Filme1[0])\n",
    "    \n",
    "    if genero in Filme2[3]:\n",
    "        lista.append(Filme2[0])\n",
    "\n",
    "    if genero in Filme3[3]:\n",
    "        lista.append(Filme3[0])\n",
    "\n",
    "    for i in range(len(lista)):\n",
    "        for j in range(len(lista)):\n",
    "            if lista[j] > lista[i]:\n",
    "                f = lista[i]\n",
    "                lista[i] = lista [j]\n",
    "                lista[j] = f\n",
    "    \n",
    "    return lista\n",
    "\n",
    "print(listarPorGenero(CineUM, \"Comedy\"))\n",
    "# Resultado esperado: ['Analyze That', 'Meet the Parents']"
   ]
  },
  {
   "cell_type": "markdown",
   "metadata": {},
   "source": [
    "### 2)c)  Devolve o título do filme com o maior elenco:"
   ]
  },
  {
   "cell_type": "code",
   "execution_count": 20,
   "metadata": {},
   "outputs": [
    {
     "name": "stdout",
     "output_type": "stream",
     "text": [
      "Meet the Parents\n"
     ]
    }
   ],
   "source": [
    "def maiorElenco(cinemateca):\n",
    "    if len(Filme1[2]) > len(Filme2[2]) and len(Filme1[2]) > len(Filme3[2]): \n",
    "        return Filme1[0]\n",
    "\n",
    "    elif len(Filme2[2]) > len(Filme1[2]) and len(Filme2[2]) > len(Filme3[2]):\n",
    "        return Filme2[0]\n",
    "\n",
    "    else: \n",
    "        return Filme3[0] \n",
    "    \n",
    "    \n",
    "\n",
    "print(maiorElenco(CineUM))\n",
    "# Resultado esperado: Meet the Parents"
   ]
  },
  {
   "cell_type": "markdown",
   "metadata": {},
   "source": [
    "### 2)d)  Calcula a distribuição de filmes por Género:"
   ]
  },
  {
   "cell_type": "code",
   "execution_count": 22,
   "metadata": {},
   "outputs": [
    {
     "data": {
      "text/plain": [
       "{'Comedy': 2, 'Drama': 2, 'Thriller': 1, 'Biography': 1}"
      ]
     },
     "execution_count": 22,
     "metadata": {},
     "output_type": "execute_result"
    }
   ],
   "source": [
    "def filmePorGenero(cinemateca):\n",
    "    dict={}\n",
    "    comedy = 0\n",
    "    drama = 0\n",
    "    biography = 0\n",
    "    thriller = 0\n",
    "\n",
    "    lista1 = Filme1[3]\n",
    "    lista2 = Filme2[3]\n",
    "    lista3 = Filme3[3]\n",
    "\n",
    "    lista = lista1 + lista2 + lista3\n",
    "\n",
    "    for elem in lista:\n",
    "        \n",
    "        if elem == 'Comedy':\n",
    "            comedy = comedy + 1\n",
    "        \n",
    "        elif elem == 'Drama':\n",
    "            drama = drama + 1\n",
    "\n",
    "        if elem == 'Thriller':\n",
    "            thriller = thriller + 1 \n",
    "\n",
    "        elif elem == 'Biography':\n",
    "            biography = biography + 1 \n",
    "\n",
    "    dict['Comedy'] = comedy\n",
    "    dict['Drama'] = drama\n",
    "    dict['Thriller'] = thriller \n",
    "    dict['Biography'] = biography\n",
    "\n",
    "    return dict\n",
    "\n",
    "    \n",
    "filmePorGenero(CineUM)"
   ]
  },
  {
   "cell_type": "markdown",
   "metadata": {},
   "source": [
    "### 2)e)  Represente num gráfico de barras a distribuição calculada na alínea anterior (pode usar o material que entender das aulas):"
   ]
  },
  {
   "cell_type": "code",
   "execution_count": 23,
   "metadata": {},
   "outputs": [
    {
     "ename": "ModuleNotFoundError",
     "evalue": "No module named 'matplotlib'",
     "output_type": "error",
     "traceback": [
      "\u001b[1;31m---------------------------------------------------------------------------\u001b[0m",
      "\u001b[1;31mModuleNotFoundError\u001b[0m                       Traceback (most recent call last)",
      "Cell \u001b[1;32mIn [23], line 1\u001b[0m\n\u001b[1;32m----> 1\u001b[0m \u001b[39mimport\u001b[39;00m \u001b[39mmatplotlib\u001b[39;00m\u001b[39m.\u001b[39;00m\u001b[39mpyplot\u001b[39;00m \u001b[39mas\u001b[39;00m \u001b[39mplt\u001b[39;00m\n\u001b[0;32m      3\u001b[0m \u001b[39mdef\u001b[39;00m \u001b[39mgrafico\u001b[39m(CineUM):\n\u001b[0;32m      4\u001b[0m     \u001b[39mdict\u001b[39m \u001b[39m=\u001b[39m filmePorGenero(cinemateca)\n",
      "\u001b[1;31mModuleNotFoundError\u001b[0m: No module named 'matplotlib'"
     ]
    }
   ],
   "source": [
    "import matplotlib.pyplot as plt\n",
    "\n",
    "def grafico(CineUM):\n",
    "    dict = filmePorGenero(cinemateca)\n",
    "    genero = dict.keys()\n",
    "    numero = dict.values()\n",
    "\n",
    "    plt.bar(genero, numero)\n",
    "\n",
    "    plt.xlabel('Género')\n",
    "    plt.ylabel('Número')\n",
    "\n",
    "    plt.title('Dristibuição de filmes por género')\n",
    "    plt.show()\n",
    "\n",
    "grafico(CineUM)"
   ]
  }
 ],
 "metadata": {
  "kernelspec": {
   "display_name": "Python 3.10.7 64-bit",
   "language": "python",
   "name": "python3"
  },
  "language_info": {
   "codemirror_mode": {
    "name": "ipython",
    "version": 3
   },
   "file_extension": ".py",
   "mimetype": "text/x-python",
   "name": "python",
   "nbconvert_exporter": "python",
   "pygments_lexer": "ipython3",
   "version": "3.10.7"
  },
  "orig_nbformat": 4,
  "vscode": {
   "interpreter": {
    "hash": "81def38dabae2ddffb703dd72bfeb3541b64275e13f1bdab23977ab567fa5a52"
   }
  }
 },
 "nbformat": 4,
 "nbformat_minor": 2
}
